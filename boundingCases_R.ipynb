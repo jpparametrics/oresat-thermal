{
 "cells": [
  {
   "cell_type": "markdown",
   "metadata": {},
   "source": [
    "# Bounding Cases for OreSat Temperature Field"
   ]
  },
  {
   "cell_type": "markdown",
   "metadata": {},
   "source": [
    "## Intro"
   ]
  },
  {
   "cell_type": "markdown",
   "metadata": {},
   "source": [
    "### References"
   ]
  },
  {
   "cell_type": "markdown",
   "metadata": {},
   "source": [
    "- [Table of some emissivities][epsilon]\n",
    "- [NASA paper on PCBs in space][NASA PCB]\n",
    "\n",
    "[epsilon]: http://www.solarmirror.com/fom/fom-serve/cache/43.html\n",
    "[NASA PCB]: https://ntrs.nasa.gov/archive/nasa/casi.ntrs.nasa.gov/19920002003.pdf"
   ]
  },
  {
   "cell_type": "markdown",
   "metadata": {},
   "source": [
    "### Imports"
   ]
  },
  {
   "cell_type": "code",
   "execution_count": 130,
   "metadata": {
    "collapsed": false,
    "scrolled": false
   },
   "outputs": [
    {
     "data": {
      "text/html": [
       "<dl class=dl-horizontal>\n",
       "\t<dt>m</dt>\n",
       "\t\t<dd>1</dd>\n",
       "\t<dt>km</dt>\n",
       "\t\t<dd>1</dd>\n",
       "\t<dt>mm</dt>\n",
       "\t\t<dd>1</dd>\n",
       "\t<dt>W</dt>\n",
       "\t\t<dd>1</dd>\n",
       "\t<dt>K</dt>\n",
       "\t\t<dd>1</dd>\n",
       "\t<dt>rad</dt>\n",
       "\t\t<dd>1</dd>\n",
       "\t<dt>sr</dt>\n",
       "\t\t<dd>1</dd>\n",
       "</dl>\n"
      ],
      "text/latex": [
       "\\begin{description*}\n",
       "\\item[m] 1\n",
       "\\item[km] 1\n",
       "\\item[mm] 1\n",
       "\\item[W] 1\n",
       "\\item[K] 1\n",
       "\\item[rad] 1\n",
       "\\item[sr] 1\n",
       "\\end{description*}\n"
      ],
      "text/markdown": [
       "m\n",
       ":   1km\n",
       ":   1mm\n",
       ":   1W\n",
       ":   1K\n",
       ":   1rad\n",
       ":   1sr\n",
       ":   1\n",
       "\n"
      ],
      "text/plain": [
       "  m  km  mm   W   K rad  sr \n",
       "  1   1   1   1   1   1   1 "
      ]
     },
     "metadata": {},
     "output_type": "display_data"
    }
   ],
   "source": [
    "library('units')\n",
    "getName <- function(name, object) \n",
    "    # Bring the unit name from ud_units into the current environment\n",
    "    if (  !is.null( object[[name]] )  ) \n",
    "    {\n",
    "        assign(\n",
    "            x=name, \n",
    "            value=object[[name]], \n",
    "            envir=parent.env(environment())\n",
    "            )\n",
    "    } else  warning('Name ', name, ' not found in ud_units.')\n",
    "        \n",
    "sapply( \n",
    "    c('m','km','mm','W','K','rad','sr'), \n",
    "    function(n) getName(n, ud_units) \n",
    "    )\n",
    "ul <- m/m # easy way to specify unitless quantities\n",
    "deg <- make_unit(name='deg')\n",
    "install_conversion_constant(from='deg', to='rad', const=2*pi/360)"
   ]
  },
  {
   "cell_type": "markdown",
   "metadata": {},
   "source": [
    "### input parameters"
   ]
  },
  {
   "cell_type": "markdown",
   "metadata": {},
   "source": [
    "### physical values"
   ]
  },
  {
   "cell_type": "code",
   "execution_count": 101,
   "metadata": {
    "collapsed": false
   },
   "outputs": [
    {
     "name": "stderr",
     "output_type": "stream",
     "text": [
      "Warning message in Math.units(rad_earth/(rad_earth + altitude)):\n",
      "\"Operation asin not meaningful for units\""
     ]
    }
   ],
   "source": [
    "area_circ <- function(r) pi*r^2\n",
    "area_sphere <- function(r) 4*pi*r^2\n",
    "volume_sphere <- function(r) 4/3*pi*r^3\n",
    "solidAngle <- function(theta) 2*pi*(1*ul-cos(theta))  \n",
    "sigma= 5.67e-8 *W/m^2/K^4 # Stefan-Boltzman constant\n",
    "dist_sol= 1.496e8 *km\n",
    "rad_sol= 6.96392e5 *km\n",
    "# theta_halfSun= atan((rad_sol/dist_sol)) # for educational purposes\n",
    "# cat(solidAngle(theta_halfSun))\n",
    "view_sol= area_circ(rad_sol)/area_sphere(dist_sol)*2 *ul # sun's view factor (nice approximation)\n",
    "rad_earth= 6.371e3 *km\n",
    "altitude= 404 *km\n",
    "# Ignore the warning about asin(). This is exactly how that function is supposed to be used.\n",
    "theta_halfEarth= asin( rad_earth/(rad_earth+altitude) ) *rad\n",
    "view_earth= solidAngle(theta_halfEarth)/2/pi\n",
    "rho_sol_earth= 0.367 *ul # reflectance of earth based on sunlight (albedo)\n",
    "T_ice= 273.2 *K\n",
    "T_room= T_ice+ 20*K\n",
    "T_sol= 5.773e3 *K\n",
    "T_earth= 14*K +T_ice\n",
    "T_space= 2.7 *K\n",
    "# emissivities, see [epsilon]\n",
    "eps_bb_al= 0.84 *ul # average black body emissivity of anodized aluminum\n",
    "eps_sol_al= 0.14 *ul # average solar emissivity of anodized aluminum\n",
    "eps_al_black= 0.88 *ul # average (solar and black body) emissivity of black anodized aluminum"
   ]
  },
  {
   "cell_type": "code",
   "execution_count": 116,
   "metadata": {
    "collapsed": false
   },
   "outputs": [
    {
     "data": {
      "text/plain": [
       "682.3444 W/m^2"
      ]
     },
     "metadata": {},
     "output_type": "display_data"
    },
    {
     "data": {
      "text/plain": [
       "390.0794 W/m^2"
      ]
     },
     "metadata": {},
     "output_type": "display_data"
    },
    {
     "data": {
      "text/plain": [
       "1364.689 W/m^2"
      ]
     },
     "metadata": {},
     "output_type": "display_data"
    },
    {
     "data": {
      "text/plain": [
       "500.8408 W/m^2"
      ]
     },
     "metadata": {},
     "output_type": "display_data"
    }
   ],
   "source": [
    "radTransfer <- function(viewFactor, emissivity, T)\n",
    "    emissivity*viewFactor*sigma*T^4\n",
    "radTransfer(view_sol, 1, T_sol)\n",
    "radTransfer(1, 1, T_earth)\n",
    "q.sol <- 4*pi*rad_sol^2*sigma*T_sol^4\n",
    "qA.sol <- q.sol/(4*pi*dist_sol^2)\n",
    "units(qA.sol) <- W/m^2\n",
    "qA.sol\n",
    "qA.earth <- qA.sol*rho_sol_earth\n",
    "qA.earth"
   ]
  },
  {
   "cell_type": "markdown",
   "metadata": {},
   "source": [
    "## Worst Case"
   ]
  },
  {
   "cell_type": "markdown",
   "metadata": {},
   "source": [
    "+Y or -Y face is pointed directly at the sun. +/-Y sides act as heat sinks. The +/-Z beams of the front/back frames are thin fins connecting the sides. OreSat is directly between Earth and Sol. The sides are considered to be planes (neglecting the widths of the rails and frames)."
   ]
  },
  {
   "cell_type": "code",
   "execution_count": 120,
   "metadata": {
    "collapsed": false
   },
   "outputs": [
    {
     "data": {
      "text/plain": [
       "251.6662 K"
      ]
     },
     "metadata": {},
     "output_type": "display_data"
    },
    {
     "data": {
      "text/plain": [
       "360.7057 K"
      ]
     },
     "metadata": {},
     "output_type": "display_data"
    }
   ],
   "source": [
    "# 0= qA.sol*eps_sol_al -eps_bb_al*sigma*T_sunside^4\n",
    "# T_sunside^4= qA.sol*eps_sol_al/(eps_bb_al*sigma)\n",
    "T_sunside= ( qA.sol*eps_sol_al/(eps_bb_al*sigma) )^(1/4)\n",
    "T_sunside\n",
    "T_earth=  ( qA.sol*(1*ul-rho_sol_earth)/(0.9*sigma) )^(1/4)\n",
    "units(T_earth) <- "
   ]
  },
  {
   "cell_type": "code",
   "execution_count": 107,
   "metadata": {
    "collapsed": false
   },
   "outputs": [
    {
     "ename": "ERROR",
     "evalue": "Error in Ops.units(mmm, each): both operands of the expression should be \"units\" objects\n",
     "output_type": "error",
     "traceback": [
      "Error in Ops.units(mmm, each): both operands of the expression should be \"units\" objects\nTraceback:\n",
      "1. uniroot(equil_nearsun_steadyF, lower = T_space, upper = T_sol)",
      "2. truncate(f.lower)",
      "3. pmax.int(pmin(x, .Machine$double.xmax), -.Machine$double.xmax)",
      "4. pmin(x, .Machine$double.xmax)",
      "5. Ops.units(mmm, each)",
      "6. stop(\"both operands of the expression should be \\\"units\\\" objects\")"
     ]
    }
   ],
   "source": [
    "equil_nearsun_steadyF <- function(T) radTransfer(view_sol, 1*ul, T_sol) - radTransfer(1*ul,1*ul, T)\n",
    "asdf <- uniroot(equil_nearsun_steadyF, lower= T_space, upper= T_sol)\n",
    "# T_nearsun_steady <- \n",
    "\n",
    "# T_farsun_init= ???"
   ]
  },
  {
   "cell_type": "markdown",
   "metadata": {},
   "source": [
    "## Best Case"
   ]
  }
 ],
 "metadata": {
  "kernelspec": {
   "display_name": "R",
   "language": "R",
   "name": "ir"
  },
  "language_info": {
   "codemirror_mode": "r",
   "file_extension": ".r",
   "mimetype": "text/x-r-source",
   "name": "R",
   "pygments_lexer": "r",
   "version": "3.2.5"
  },
  "toc": {
   "colors": {
    "hover_highlight": "#DAA520",
    "navigate_num": "#000000",
    "navigate_text": "#333333",
    "running_highlight": "#FF0000",
    "selected_highlight": "#FFD700",
    "sidebar_border": "#EEEEEE",
    "wrapper_background": "#FFFFFF"
   },
   "moveMenuLeft": true,
   "nav_menu": {
    "height": "4px",
    "width": "254px"
   },
   "navigate_menu": true,
   "number_sections": false,
   "sideBar": true,
   "threshold": 4,
   "toc_cell": false,
   "toc_section_display": "block",
   "toc_window_display": false,
   "widenNotebook": false
  },
  "varInspector": {
   "cols": {
    "lenName": 16,
    "lenType": 16,
    "lenVar": 40
   },
   "kernels_config": {
    "python": {
     "delete_cmd_postfix": "",
     "delete_cmd_prefix": "del ",
     "library": "var_list.py",
     "varRefreshCmd": "print(var_dic_list())"
    },
    "r": {
     "delete_cmd_postfix": ") ",
     "delete_cmd_prefix": "rm(",
     "library": "var_list.r",
     "varRefreshCmd": "cat(var_dic_list()) "
    }
   },
   "types_to_exclude": [
    "module",
    "function",
    "builtin_function_or_method",
    "instance",
    "_Feature"
   ],
   "window_display": false
  }
 },
 "nbformat": 4,
 "nbformat_minor": 2
}
