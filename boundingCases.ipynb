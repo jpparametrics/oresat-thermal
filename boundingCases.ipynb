{
 "cells": [
  {
   "cell_type": "markdown",
   "metadata": {},
   "source": [
    "# Bounding Cases for OreSat Temperature Field"
   ]
  },
  {
   "cell_type": "markdown",
   "metadata": {},
   "source": [
    "## Intro"
   ]
  },
  {
   "cell_type": "markdown",
   "metadata": {},
   "source": [
    "### References"
   ]
  },
  {
   "cell_type": "markdown",
   "metadata": {},
   "source": [
    "- [Table of some emissivities][epsilon]\n",
    "- [NASA paper on PCBs in space][NASA PCB]\n",
    "\n",
    "[epsilon]: http://www.solarmirror.com/fom/fom-serve/cache/43.html\n",
    "[NASA PCB]: https://ntrs.nasa.gov/archive/nasa/casi.ntrs.nasa.gov/19920002003.pdf"
   ]
  },
  {
   "cell_type": "markdown",
   "metadata": {},
   "source": [
    "### Imports"
   ]
  },
  {
   "cell_type": "code",
   "execution_count": 1,
   "metadata": {
    "collapsed": true
   },
   "outputs": [],
   "source": [
    "import numpy as np\n",
    "import matplotlib.pyplot as plt\n",
    "%matplotlib inline\n",
    "import magnitude\n",
    "from magnitude import mg"
   ]
  },
  {
   "cell_type": "markdown",
   "metadata": {},
   "source": [
    "### input parameters"
   ]
  },
  {
   "cell_type": "markdown",
   "metadata": {},
   "source": [
    "### physical values"
   ]
  },
  {
   "cell_type": "code",
   "execution_count": 2,
   "metadata": {
    "collapsed": false,
    "scrolled": true
   },
   "outputs": [],
   "source": [
    "pi= mg(np.pi)\n",
    "def area_circ(r): return(pi*r**2)\n",
    "def area_sphere(r): return(mg(4)*pi*r**2)\n",
    "def volume_sphere(r): return(mg(4/3)*pi*r**3)\n",
    "def solidAngle(theta): return(  mg(2)*pi*( mg(1)-np.cos(theta) )  )\n",
    "sigma= mg(5.67e-8, \"W/m2/K4\") # Stefan-Boltzman constant\n",
    "dist_sol= mg(1.496e8,'km')\n",
    "rad_sol= mg(6.96392e5,'km')\n",
    "# theta_halfSun= np.arctan((rad_sol/dist_sol).val) # for educational purposes\n",
    "# print('%0.10f'%solidAngle(theta_halfSun))\n",
    "view_sol= area_circ(rad_sol)/area_sphere(dist_sol)*2 # sun's view factor (nice approximation)\n",
    "rad_earth= mg(6.371e3,'km')\n",
    "altitude= mg(404,'km')\n",
    "theta_halfEarth= np.arcsin( (rad_earth/(rad_earth+altitude)).val )\n",
    "view_earth= solidAngle(theta_halfEarth)/2/pi\n",
    "rho_sol_earth= mg(0.367) # reflectance of earth based on sunlight (albedo)\n",
    "T_ice= mg(273.2,'K')\n",
    "T_room= T_ice+ mg(20,'K')\n",
    "T_sol= mg(5.773e3,'K')\n",
    "T_earth= mg(288,'K')\n",
    "T_space= mg(2.7,'K')\n",
    "# emissivities, see [epsilon]\n",
    "eps_bb_al= mg(0.84) # average black body emissivity of anodized aluminum\n",
    "eps_sol_al= mg(0.14) # average solar emissivity of anodized aluminum\n",
    "ep_al_black= mg(0.88) # average (solar and black body) emissivity of black anodized aluminum"
   ]
  },
  {
   "cell_type": "code",
   "execution_count": 3,
   "metadata": {
    "collapsed": false
   },
   "outputs": [
    {
     "name": "stdout",
     "output_type": "stream",
     "text": [
      "0.6598\n"
     ]
    }
   ],
   "source": [
    "print(view_earth)"
   ]
  },
  {
   "cell_type": "code",
   "execution_count": 4,
   "metadata": {
    "collapsed": true
   },
   "outputs": [],
   "source": [
    "def radTransfer(viewFactor, emissivity, T):\n",
    "    return(emissivity*viewFactor*T**4)"
   ]
  },
  {
   "cell_type": "markdown",
   "metadata": {},
   "source": [
    "## Worst Case"
   ]
  },
  {
   "cell_type": "markdown",
   "metadata": {},
   "source": [
    "+Y or -Y face is pointed directly at the sun. +/-Y sides act as heat sinks. The +/-Z beams of the front/back frames are thin fins connecting the sides. OreSat is directly between Earth and Sol. The sides are considered to be planes (neglecting the widths of the rails and frames)."
   ]
  },
  {
   "cell_type": "code",
   "execution_count": 5,
   "metadata": {
    "collapsed": false
   },
   "outputs": [
    {
     "name": "stdout",
     "output_type": "stream",
     "text": [
      "2.7625 K\n"
     ]
    }
   ],
   "source": [
    "T_nearsun_steady= T_sol*view_sol + T_space*(1-view_sol)\n",
    "print(T_nearsun_steady) # why is this wrong? Because thermal radiation problems aren't superposeable.\n",
    "\n",
    "# T_farsun_init= ???"
   ]
  },
  {
   "cell_type": "markdown",
   "metadata": {},
   "source": [
    "## Best Case"
   ]
  }
 ],
 "metadata": {
  "kernelspec": {
   "display_name": "Python 2",
   "language": "python",
   "name": "python2"
  },
  "language_info": {
   "codemirror_mode": {
    "name": "ipython",
    "version": 2
   },
   "file_extension": ".py",
   "mimetype": "text/x-python",
   "name": "python",
   "nbconvert_exporter": "python",
   "pygments_lexer": "ipython2",
   "version": "2.7.6"
  },
  "toc": {
   "colors": {
    "hover_highlight": "#DAA520",
    "navigate_num": "#000000",
    "navigate_text": "#333333",
    "running_highlight": "#FF0000",
    "selected_highlight": "#FFD700",
    "sidebar_border": "#EEEEEE",
    "wrapper_background": "#FFFFFF"
   },
   "moveMenuLeft": true,
   "nav_menu": {
    "height": "4px",
    "width": "254px"
   },
   "navigate_menu": true,
   "number_sections": false,
   "sideBar": true,
   "threshold": 4,
   "toc_cell": false,
   "toc_section_display": "block",
   "toc_window_display": false,
   "widenNotebook": false
  },
  "varInspector": {
   "cols": {
    "lenName": 16,
    "lenType": 16,
    "lenVar": 40
   },
   "kernels_config": {
    "python": {
     "delete_cmd_postfix": "",
     "delete_cmd_prefix": "del ",
     "library": "var_list.py",
     "varRefreshCmd": "print(var_dic_list())"
    },
    "r": {
     "delete_cmd_postfix": ") ",
     "delete_cmd_prefix": "rm(",
     "library": "var_list.r",
     "varRefreshCmd": "cat(var_dic_list()) "
    }
   },
   "types_to_exclude": [
    "module",
    "function",
    "builtin_function_or_method",
    "instance",
    "_Feature"
   ],
   "window_display": false
  }
 },
 "nbformat": 4,
 "nbformat_minor": 2
}
